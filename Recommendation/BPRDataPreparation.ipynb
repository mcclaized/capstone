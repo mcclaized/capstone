{
 "cells": [
  {
   "cell_type": "markdown",
   "metadata": {},
   "source": [
    "# Data Preparation\n",
    "\n",
    "The code in this notebook demonstraps how to create training data of the form (Target ISIN, Better Recommendation ISIN, Worse Recommendation ISIN) from the outputs of the distance-based model.\n",
    "\n",
    "This training data is then suitable for input to the model as detailed in BPRModel.ipynb"
   ]
  },
  {
   "cell_type": "code",
   "execution_count": null,
   "metadata": {},
   "outputs": [],
   "source": [
    "import csv\n",
    "import json\n",
    "import numpy as np\n",
    "import pandas as pd\n",
    "from tabulate import tabulate\n",
    "from tqdm import tqdm_notebook as tqdm\n",
    "\n",
    "import torch\n",
    "import torch.nn as nn\n",
    "import torch.optim as optim\n",
    "import torch.nn.functional as F\n",
    "from torch.utils.data import Dataset, DataLoader, random_split\n",
    "\n",
    "from data import SingleDayDataLoader\n",
    "from main import get_similar_bonds"
   ]
  },
  {
   "cell_type": "code",
   "execution_count": null,
   "metadata": {},
   "outputs": [],
   "source": [
    "# THIS FILE CONTAINS A MAPPING BETWEEN ISIN AND AN INDEX FOR EACH BOND\n",
    "# These indices will be the unique identifiers that the model uses to identify each bond\n",
    "# e.g. {\"US00037BAB80\": 0, \"US00037BAC63\": 1, ...}\n",
    "isin_to_index_mapping_file = 'isin_to_index2.json'"
   ]
  },
  {
   "cell_type": "code",
   "execution_count": null,
   "metadata": {},
   "outputs": [],
   "source": [
    "# This is the ouputfile of training data that we will generate with the code in this file\n",
    "# It will contain rows of (TARGET BOND ISIN, BETTER RECOMMENDATION ISIN, WORSE RECOMMENDATION ISIN)\n",
    "training_data_csv = 'train/all_rankings.csv'"
   ]
  },
  {
   "cell_type": "code",
   "execution_count": null,
   "metadata": {},
   "outputs": [],
   "source": [
    "# For performance reasons, we will load the CSV file, transform the ISINs to their numeric Index, \n",
    "# and save it as a PyTorch tensor\n",
    "training_data_tensor = 'train/all_rankings.pt'"
   ]
  },
  {
   "cell_type": "code",
   "execution_count": null,
   "metadata": {},
   "outputs": [],
   "source": [
    "# DEFINE SOME ATTRIBUTES THAT WE REASONABLY EXPECT \"SIMILAR\" BONDS TO SHARE\n",
    "group_attributes = ['BCLASS3', 'Country', 'Class - Detail - Code']\n",
    "\n",
    "# DEFINE THE FEATURES THAT THE DISTANCE-BASED MODEL WILL TRAIN ON\n",
    "features = ['Bid Spread',\n",
    " 'Cur Yld',\n",
    " 'G Spd',\n",
    " 'Years to Mat',\n",
    " 'OAS',\n",
    " 'OAD',\n",
    " 'Amt Out',\n",
    " 'Cpn',\n",
    " 'Excess Rtn',\n",
    " 'Px Close',\n",
    " 'KRD 6M',\n",
    " 'KRD 2Y',\n",
    " 'KRD 5Y',\n",
    " 'KRD 10Y',\n",
    " 'KRD 20Y',\n",
    " 'KRD 30Y',\n",
    " 'S&P Rating Num',\n",
    " 'Accrued Int (%)',\n",
    " 'Yield to Mat'\n",
    "]"
   ]
  },
  {
   "cell_type": "code",
   "execution_count": null,
   "metadata": {},
   "outputs": [],
   "source": [
    "dataloader = SingleDayDataLoader()"
   ]
  },
  {
   "cell_type": "code",
   "execution_count": null,
   "metadata": {},
   "outputs": [],
   "source": [
    "dataloader.data.head()"
   ]
  },
  {
   "cell_type": "code",
   "execution_count": null,
   "metadata": {},
   "outputs": [],
   "source": [
    "EXAMPLE_ISIN = \"US00037BAB80\""
   ]
  },
  {
   "cell_type": "code",
   "execution_count": null,
   "metadata": {},
   "outputs": [],
   "source": [
    "get_similar_bonds(EXAMPLE_ISIN, features=features, cohort_attributes=group_attributes)"
   ]
  },
  {
   "cell_type": "code",
   "execution_count": null,
   "metadata": {},
   "outputs": [],
   "source": [
    "# TODO Create the isin_to_index.json\n",
    "\n",
    "# Generate distance2.csv  --> all_rankings.csv"
   ]
  },
  {
   "cell_type": "markdown",
   "metadata": {},
   "source": [
    "The above code just demonstrates how to construct some rankings data for one bond. This process could be:\n",
    "- Repeated for all bonds\n",
    "- Run with several different types of distance based models (i.e. no group_attributes, train on yield and OAS)"
   ]
  },
  {
   "cell_type": "code",
   "execution_count": null,
   "metadata": {},
   "outputs": [],
   "source": [
    "class CsvFileDataset(Dataset):\n",
    "    \"\"\"\n",
    "    Load the dataset from a saved CSV file on disk. This is slower, so run it once and then save as a Tensor\n",
    "    \"\"\"\n",
    "    def __init__(self, csv_file_path, isin_index_mapping_file):\n",
    "        self.isin_to_index = json.load(open(isin_index_mapping_file))\n",
    "        with open(csv_file_path) as data_file:\n",
    "            reader = csv.reader(data_file)\n",
    "            next(reader)\n",
    "            self.data = torch.tensor([[self.isin_to_index[isin] for isin in row] for row in reader])\n",
    "    \n",
    "    def __len__(self):\n",
    "        return self.data.shape[0]\n",
    "    \n",
    "    def __getitem__(self, idx):\n",
    "        return self.data[idx]\n",
    "    \n",
    "    def save_as_tensor(self, path):\n",
    "        torch.save(self.data, path)"
   ]
  },
  {
   "cell_type": "code",
   "execution_count": null,
   "metadata": {},
   "outputs": [],
   "source": [
    "dataset = CsvFileDataset(training_data_csv, 'isin_to_index_mapping_file')"
   ]
  },
  {
   "cell_type": "code",
   "execution_count": null,
   "metadata": {},
   "outputs": [],
   "source": [
    "dataset.save_as_tensor(training_data_tensor)"
   ]
  },
  {
   "cell_type": "code",
   "execution_count": null,
   "metadata": {},
   "outputs": [],
   "source": []
  }
 ],
 "metadata": {
  "kernelspec": {
   "display_name": "Python 3",
   "language": "python",
   "name": "python3"
  },
  "language_info": {
   "codemirror_mode": {
    "name": "ipython",
    "version": 3
   },
   "file_extension": ".py",
   "mimetype": "text/x-python",
   "name": "python",
   "nbconvert_exporter": "python",
   "pygments_lexer": "ipython3",
   "version": "3.6.7"
  }
 },
 "nbformat": 4,
 "nbformat_minor": 2
}
